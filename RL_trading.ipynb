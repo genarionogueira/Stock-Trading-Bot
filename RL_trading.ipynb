{
 "cells": [
  {
   "cell_type": "code",
   "execution_count": 2,
   "metadata": {},
   "outputs": [],
   "source": [
    "import pandas as pd"
   ]
  },
  {
   "cell_type": "code",
   "execution_count": 3,
   "metadata": {},
   "outputs": [],
   "source": [
    "df = pd.read_csv('individual_stocks_5yr/individual_stocks_5yr/MSFT_data.csv')"
   ]
  },
  {
   "cell_type": "code",
   "execution_count": 4,
   "metadata": {},
   "outputs": [
    {
     "data": {
      "text/html": [
       "<div>\n",
       "<style scoped>\n",
       "    .dataframe tbody tr th:only-of-type {\n",
       "        vertical-align: middle;\n",
       "    }\n",
       "\n",
       "    .dataframe tbody tr th {\n",
       "        vertical-align: top;\n",
       "    }\n",
       "\n",
       "    .dataframe thead th {\n",
       "        text-align: right;\n",
       "    }\n",
       "</style>\n",
       "<table border=\"1\" class=\"dataframe\">\n",
       "  <thead>\n",
       "    <tr style=\"text-align: right;\">\n",
       "      <th></th>\n",
       "      <th>date</th>\n",
       "      <th>open</th>\n",
       "      <th>high</th>\n",
       "      <th>low</th>\n",
       "      <th>close</th>\n",
       "      <th>volume</th>\n",
       "      <th>Name</th>\n",
       "    </tr>\n",
       "  </thead>\n",
       "  <tbody>\n",
       "    <tr>\n",
       "      <td>0</td>\n",
       "      <td>2013-02-08</td>\n",
       "      <td>27.35</td>\n",
       "      <td>27.71</td>\n",
       "      <td>27.31</td>\n",
       "      <td>27.55</td>\n",
       "      <td>33318306</td>\n",
       "      <td>MSFT</td>\n",
       "    </tr>\n",
       "    <tr>\n",
       "      <td>1</td>\n",
       "      <td>2013-02-11</td>\n",
       "      <td>27.65</td>\n",
       "      <td>27.92</td>\n",
       "      <td>27.50</td>\n",
       "      <td>27.86</td>\n",
       "      <td>32247549</td>\n",
       "      <td>MSFT</td>\n",
       "    </tr>\n",
       "    <tr>\n",
       "      <td>2</td>\n",
       "      <td>2013-02-12</td>\n",
       "      <td>27.88</td>\n",
       "      <td>28.00</td>\n",
       "      <td>27.75</td>\n",
       "      <td>27.88</td>\n",
       "      <td>35990829</td>\n",
       "      <td>MSFT</td>\n",
       "    </tr>\n",
       "    <tr>\n",
       "      <td>3</td>\n",
       "      <td>2013-02-13</td>\n",
       "      <td>27.93</td>\n",
       "      <td>28.11</td>\n",
       "      <td>27.88</td>\n",
       "      <td>28.03</td>\n",
       "      <td>41715530</td>\n",
       "      <td>MSFT</td>\n",
       "    </tr>\n",
       "    <tr>\n",
       "      <td>4</td>\n",
       "      <td>2013-02-14</td>\n",
       "      <td>27.92</td>\n",
       "      <td>28.06</td>\n",
       "      <td>27.87</td>\n",
       "      <td>28.04</td>\n",
       "      <td>32663174</td>\n",
       "      <td>MSFT</td>\n",
       "    </tr>\n",
       "  </tbody>\n",
       "</table>\n",
       "</div>"
      ],
      "text/plain": [
       "         date   open   high    low  close    volume  Name\n",
       "0  2013-02-08  27.35  27.71  27.31  27.55  33318306  MSFT\n",
       "1  2013-02-11  27.65  27.92  27.50  27.86  32247549  MSFT\n",
       "2  2013-02-12  27.88  28.00  27.75  27.88  35990829  MSFT\n",
       "3  2013-02-13  27.93  28.11  27.88  28.03  41715530  MSFT\n",
       "4  2013-02-14  27.92  28.06  27.87  28.04  32663174  MSFT"
      ]
     },
     "execution_count": 4,
     "metadata": {},
     "output_type": "execute_result"
    }
   ],
   "source": [
    "df.head()"
   ]
  },
  {
   "cell_type": "code",
   "execution_count": 5,
   "metadata": {},
   "outputs": [],
   "source": [
    "df['date'] =  pd.to_datetime(df['date'], format='%Y-%m-%d')\n",
    "df.set_index('date', inplace = True)"
   ]
  },
  {
   "cell_type": "code",
   "execution_count": 6,
   "metadata": {},
   "outputs": [
    {
     "data": {
      "text/html": [
       "<div>\n",
       "<style scoped>\n",
       "    .dataframe tbody tr th:only-of-type {\n",
       "        vertical-align: middle;\n",
       "    }\n",
       "\n",
       "    .dataframe tbody tr th {\n",
       "        vertical-align: top;\n",
       "    }\n",
       "\n",
       "    .dataframe thead th {\n",
       "        text-align: right;\n",
       "    }\n",
       "</style>\n",
       "<table border=\"1\" class=\"dataframe\">\n",
       "  <thead>\n",
       "    <tr style=\"text-align: right;\">\n",
       "      <th></th>\n",
       "      <th>open</th>\n",
       "      <th>high</th>\n",
       "      <th>low</th>\n",
       "      <th>close</th>\n",
       "      <th>volume</th>\n",
       "      <th>Name</th>\n",
       "    </tr>\n",
       "    <tr>\n",
       "      <th>date</th>\n",
       "      <th></th>\n",
       "      <th></th>\n",
       "      <th></th>\n",
       "      <th></th>\n",
       "      <th></th>\n",
       "      <th></th>\n",
       "    </tr>\n",
       "  </thead>\n",
       "  <tbody>\n",
       "    <tr>\n",
       "      <td>2018-02-01</td>\n",
       "      <td>94.79</td>\n",
       "      <td>96.070</td>\n",
       "      <td>93.5813</td>\n",
       "      <td>94.26</td>\n",
       "      <td>47227882</td>\n",
       "      <td>MSFT</td>\n",
       "    </tr>\n",
       "    <tr>\n",
       "      <td>2018-02-02</td>\n",
       "      <td>93.64</td>\n",
       "      <td>93.970</td>\n",
       "      <td>91.5000</td>\n",
       "      <td>91.78</td>\n",
       "      <td>47867753</td>\n",
       "      <td>MSFT</td>\n",
       "    </tr>\n",
       "    <tr>\n",
       "      <td>2018-02-05</td>\n",
       "      <td>90.56</td>\n",
       "      <td>93.240</td>\n",
       "      <td>88.0000</td>\n",
       "      <td>88.00</td>\n",
       "      <td>51031465</td>\n",
       "      <td>MSFT</td>\n",
       "    </tr>\n",
       "    <tr>\n",
       "      <td>2018-02-06</td>\n",
       "      <td>86.89</td>\n",
       "      <td>91.475</td>\n",
       "      <td>85.2500</td>\n",
       "      <td>91.33</td>\n",
       "      <td>67998564</td>\n",
       "      <td>MSFT</td>\n",
       "    </tr>\n",
       "    <tr>\n",
       "      <td>2018-02-07</td>\n",
       "      <td>90.49</td>\n",
       "      <td>91.770</td>\n",
       "      <td>89.2000</td>\n",
       "      <td>89.61</td>\n",
       "      <td>41107592</td>\n",
       "      <td>MSFT</td>\n",
       "    </tr>\n",
       "  </tbody>\n",
       "</table>\n",
       "</div>"
      ],
      "text/plain": [
       "             open    high      low  close    volume  Name\n",
       "date                                                     \n",
       "2018-02-01  94.79  96.070  93.5813  94.26  47227882  MSFT\n",
       "2018-02-02  93.64  93.970  91.5000  91.78  47867753  MSFT\n",
       "2018-02-05  90.56  93.240  88.0000  88.00  51031465  MSFT\n",
       "2018-02-06  86.89  91.475  85.2500  91.33  67998564  MSFT\n",
       "2018-02-07  90.49  91.770  89.2000  89.61  41107592  MSFT"
      ]
     },
     "execution_count": 6,
     "metadata": {},
     "output_type": "execute_result"
    }
   ],
   "source": [
    "df.tail()"
   ]
  },
  {
   "cell_type": "code",
   "execution_count": 7,
   "metadata": {},
   "outputs": [],
   "source": [
    "test_split = '2017-01-01'\n",
    "train = df[:test_split]\n",
    "test = df[test_split:]"
   ]
  },
  {
   "cell_type": "code",
   "execution_count": 8,
   "metadata": {},
   "outputs": [
    {
     "data": {
      "text/plain": [
       "22.00158856235107"
      ]
     },
     "execution_count": 8,
     "metadata": {},
     "output_type": "execute_result"
    }
   ],
   "source": [
    "len(test)/(len(train)+len(test))*100"
   ]
  },
  {
   "cell_type": "code",
   "execution_count": 4,
   "metadata": {},
   "outputs": [],
   "source": [
    "from keras.models import Sequential\n",
    "from keras.layers import Dense\n",
    "import numpy as np\n",
    "import random\n",
    "\n",
    "class Agent:\n",
    "    \n",
    "    def __init__(self):\n",
    "\n",
    "        self.actions = 3           \n",
    "        self.curr_inventory = []\n",
    "        self.gamma = 0.95\n",
    "        self.trade_log = deque(maxlen = 5000)\n",
    "        self.model = model()\n",
    "\n",
    "    def _model(self):\n",
    "        # build model here\n",
    "        model = Sequential()\n",
    "        model.add(Dense(activation = \"relu\"))\n",
    "        model.add(Dense(units=self.actions))\n",
    "        model.compile(loss = 'huber_loss', optimizer = 'adam')\n",
    "        return model\n",
    "\n",
    "    def history(self, attributes):\n",
    "        self.trade_log.append(attributes)\n",
    "\n",
    "    def take_action(self, state):\n",
    "        proba = self.model.predict(state)\n",
    "        return np.argmax(proba[0])\n",
    "\n",
    "    def train(self, batch_size):\n",
    "        mini_batch = random.sample(self.trade_log, batch_size)\n",
    "        \n",
    "        x_train , y_train = []\n",
    "        \n",
    "        for state, action, reward, next_state in mini_batch:\n",
    "            target = reward + self.gamma * np.amax(self.model.predict(next_state)[0])\n",
    "        \n",
    "        q_values = self.model.predict(state)\n",
    "        q_values[0][action] = target\n",
    "        \n",
    "        x_train.append(state[0])\n",
    "        y_train.append(q_values[0])\n",
    "        \n",
    "        loss = self.model.fit(np.array(x_train), np.array(y_train), epochs = 1).history['loss'][0]\n",
    "        \n",
    "        return loss"
   ]
  },
  {
   "cell_type": "code",
   "execution_count": null,
   "metadata": {},
   "outputs": [],
   "source": []
  }
 ],
 "metadata": {
  "kernelspec": {
   "display_name": "Python 3",
   "language": "python",
   "name": "python3"
  },
  "language_info": {
   "codemirror_mode": {
    "name": "ipython",
    "version": 3
   },
   "file_extension": ".py",
   "mimetype": "text/x-python",
   "name": "python",
   "nbconvert_exporter": "python",
   "pygments_lexer": "ipython3",
   "version": "3.7.1"
  }
 },
 "nbformat": 4,
 "nbformat_minor": 2
}
